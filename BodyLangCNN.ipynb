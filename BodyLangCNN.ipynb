{
  "cells": [
    {
      "cell_type": "code",
      "execution_count": null,
      "id": "154f8964",
      "metadata": {
        "id": "154f8964",
        "outputId": "37be6076-15b2-4704-d241-40875c4e33d0"
      },
      "outputs": [
        {
          "name": "stdout",
          "output_type": "stream",
          "text": [
            "Requirement already satisfied: keras in c:\\users\\ayush\\anaconda3\\lib\\site-packages (2.7.0)\n"
          ]
        }
      ],
      "source": [
        "!pip install keras"
      ]
    },
    {
      "cell_type": "code",
      "execution_count": null,
      "id": "305200aa",
      "metadata": {
        "id": "305200aa"
      },
      "outputs": [],
      "source": [
        "import os\n",
        "import pandas as pd\n",
        "import numpy as np\n",
        "import seaborn as sns\n",
        "from sklearn.datasets import load_files\n",
        "from keras.utils import np_utils\n",
        "import matplotlib.pyplot as plt\n",
        "from tensorflow.keras.layers import Conv2D, MaxPooling2D, GlobalAveragePooling2D\n",
        "from tensorflow.keras.layers import Dropout, Flatten, Dense\n",
        "from tensorflow.keras.models import Sequential\n",
        "from keras.utils.vis_utils import plot_model\n",
        "from tensorflow.keras.callbacks import ModelCheckpoint\n",
        "from tensorflow.keras.utils import to_categorical\n",
        "from sklearn.metrics import confusion_matrix\n",
        "from tensorflow.keras.preprocessing import image                  \n",
        "from tqdm import tqdm\n",
        "\n",
        "import seaborn as sns\n",
        "from sklearn.metrics import accuracy_score,precision_score,recall_score,f1_score"
      ]
    },
    {
      "cell_type": "code",
      "execution_count": null,
      "id": "626b4d66",
      "metadata": {
        "id": "626b4d66"
      },
      "outputs": [],
      "source": [
        "# Pretty display for notebooks\n",
        "%matplotlib inline"
      ]
    },
    {
      "cell_type": "code",
      "execution_count": null,
      "id": "0a2f34db",
      "metadata": {
        "id": "0a2f34db"
      },
      "outputs": [],
      "source": [
        "DATA_DIR = \"D:/state-farm-distracted-driver-detection/imgs\"\n",
        "TEST_DIR = os.path.join(DATA_DIR,\"test\")\n",
        "TRAIN_DIR = os.path.join(DATA_DIR,\"train\")\n",
        "MODEL_PATH = os.path.join(os.getcwd(),\"model\",\"self_trained\")\n",
        "PICKLE_DIR = os.path.join(os.getcwd(),\"pickle_files\")\n",
        "CSV_DIR = os.path.join(os.getcwd(),\"csv_files\")"
      ]
    },
    {
      "cell_type": "code",
      "execution_count": null,
      "id": "3983ee41",
      "metadata": {
        "id": "3983ee41"
      },
      "outputs": [],
      "source": [
        "if not os.path.exists(TEST_DIR):\n",
        "    print(\"Testing data does not exists\")\n",
        "if not os.path.exists(TRAIN_DIR):\n",
        "    print(\"Training data does not exists\")\n",
        "if not os.path.exists(MODEL_PATH):\n",
        "    print(\"Model path does not exists\")\n",
        "    os.makedirs(MODEL_PATH)\n",
        "    print(\"Model path created\")\n",
        "if not os.path.exists(PICKLE_DIR):\n",
        "    os.makedirs(PICKLE_DIR)\n",
        "if not os.path.exists(CSV_DIR):\n",
        "    os.makedirs(CSV_DIR)"
      ]
    },
    {
      "cell_type": "code",
      "execution_count": null,
      "id": "9468efa8",
      "metadata": {
        "id": "9468efa8"
      },
      "outputs": [],
      "source": [
        "def create_csv(DATA_DIR,filename):\n",
        "    class_names = os.listdir(DATA_DIR)\n",
        "    data = list()\n",
        "    if(os.path.isdir(os.path.join(DATA_DIR,class_names[0]))):\n",
        "        for class_name in class_names:\n",
        "            file_names = os.listdir(os.path.join(DATA_DIR,class_name))\n",
        "            for file in file_names:\n",
        "                data.append({\n",
        "                    \"Filename\":os.path.join(DATA_DIR,class_name,file),\n",
        "                    \"ClassName\":class_name\n",
        "                })\n",
        "    else:\n",
        "        class_name = \"test\"\n",
        "        file_names = os.listdir(DATA_DIR)\n",
        "        for file in file_names:\n",
        "            data.append(({\n",
        "                \"FileName\":os.path.join(DATA_DIR,file),\n",
        "                \"ClassName\":class_name\n",
        "            }))\n",
        "    data = pd.DataFrame(data)\n",
        "    data.to_csv(os.path.join(os.getcwd(),\"csv_files\",filename),index=False)\n",
        "\n",
        "create_csv(TRAIN_DIR,\"train.csv\")\n",
        "create_csv(TEST_DIR,\"test.csv\")\n",
        "data_train = pd.read_csv(os.path.join(os.getcwd(),\"csv_files\",\"train.csv\"))\n",
        "data_test = pd.read_csv(os.path.join(os.getcwd(),\"csv_files\",\"test.csv\"))"
      ]
    },
    {
      "cell_type": "code",
      "execution_count": null,
      "id": "c31769f7",
      "metadata": {
        "id": "c31769f7",
        "outputId": "8dac906b-1312-47c1-d95f-be0715b8e59e"
      },
      "outputs": [
        {
          "name": "stdout",
          "output_type": "stream",
          "text": [
            "<class 'pandas.core.frame.DataFrame'>\n",
            "RangeIndex: 22424 entries, 0 to 22423\n",
            "Data columns (total 2 columns):\n",
            " #   Column     Non-Null Count  Dtype \n",
            "---  ------     --------------  ----- \n",
            " 0   Filename   22424 non-null  object\n",
            " 1   ClassName  22424 non-null  object\n",
            "dtypes: object(2)\n",
            "memory usage: 350.5+ KB\n"
          ]
        }
      ],
      "source": [
        "data_train.info()"
      ]
    },
    {
      "cell_type": "code",
      "execution_count": null,
      "id": "8f20261f",
      "metadata": {
        "id": "8f20261f",
        "outputId": "33f4957c-e40f-4248-f84f-7bf81f1f4088"
      },
      "outputs": [
        {
          "data": {
            "text/plain": [
              "c0    2489\n",
              "c3    2346\n",
              "c4    2326\n",
              "c6    2325\n",
              "c2    2317\n",
              "c5    2312\n",
              "c1    2267\n",
              "c9    2129\n",
              "c7    2002\n",
              "c8    1911\n",
              "Name: ClassName, dtype: int64"
            ]
          },
          "execution_count": 24,
          "metadata": {},
          "output_type": "execute_result"
        }
      ],
      "source": [
        "data_train['ClassName'].value_counts()"
      ]
    },
    {
      "cell_type": "code",
      "execution_count": null,
      "id": "742b7d93",
      "metadata": {
        "id": "742b7d93",
        "outputId": "29ea6bcf-ca7b-4a22-b0de-fdce35c5283b"
      },
      "outputs": [
        {
          "data": {
            "text/html": [
              "<div>\n",
              "<style scoped>\n",
              "    .dataframe tbody tr th:only-of-type {\n",
              "        vertical-align: middle;\n",
              "    }\n",
              "\n",
              "    .dataframe tbody tr th {\n",
              "        vertical-align: top;\n",
              "    }\n",
              "\n",
              "    .dataframe thead th {\n",
              "        text-align: right;\n",
              "    }\n",
              "</style>\n",
              "<table border=\"1\" class=\"dataframe\">\n",
              "  <thead>\n",
              "    <tr style=\"text-align: right;\">\n",
              "      <th></th>\n",
              "      <th>Filename</th>\n",
              "      <th>ClassName</th>\n",
              "    </tr>\n",
              "  </thead>\n",
              "  <tbody>\n",
              "    <tr>\n",
              "      <th>count</th>\n",
              "      <td>22424</td>\n",
              "      <td>22424</td>\n",
              "    </tr>\n",
              "    <tr>\n",
              "      <th>unique</th>\n",
              "      <td>22424</td>\n",
              "      <td>10</td>\n",
              "    </tr>\n",
              "    <tr>\n",
              "      <th>top</th>\n",
              "      <td>D:/state-farm-distracted-driver-detection/imgs...</td>\n",
              "      <td>c0</td>\n",
              "    </tr>\n",
              "    <tr>\n",
              "      <th>freq</th>\n",
              "      <td>1</td>\n",
              "      <td>2489</td>\n",
              "    </tr>\n",
              "  </tbody>\n",
              "</table>\n",
              "</div>"
            ],
            "text/plain": [
              "                                                 Filename ClassName\n",
              "count                                               22424     22424\n",
              "unique                                              22424        10\n",
              "top     D:/state-farm-distracted-driver-detection/imgs...        c0\n",
              "freq                                                    1      2489"
            ]
          },
          "execution_count": 25,
          "metadata": {},
          "output_type": "execute_result"
        }
      ],
      "source": [
        "data_train.describe()"
      ]
    },
    {
      "cell_type": "code",
      "execution_count": null,
      "id": "2a1420aa",
      "metadata": {
        "id": "2a1420aa",
        "outputId": "7fea5fc0-a016-431d-a9de-2b808db1bd9e"
      },
      "outputs": [
        {
          "data": {
            "image/png": "[encoded data removed]",
            "text/plain": [
              "<Figure size 1440x1080 with 1 Axes>"
            ]
          },
          "metadata": {
            "needs_background": "light"
          },
          "output_type": "display_data"
        }
      ],
      "source": [
        "nf = data_train['ClassName'].value_counts(sort=False)\n",
        "labels = data_train['ClassName'].value_counts(sort=False).index.tolist()\n",
        "y = np.array(nf)\n",
        "width = 1/1.5\n",
        "N = len(y)\n",
        "x = range(N)\n",
        "\n",
        "fig = plt.figure(figsize=(20,15))\n",
        "ay = fig.add_subplot(211)\n",
        "\n",
        "plt.xticks(x, labels, size=15)\n",
        "plt.yticks(size=15)\n",
        "\n",
        "ay.bar(x, y, width, color=\"blue\")\n",
        "\n",
        "plt.title('Bar Chart',size=25)\n",
        "plt.xlabel('classname',size=15)\n",
        "plt.ylabel('Count',size=15)\n",
        "\n",
        "plt.show()"
      ]
    },
    {
      "cell_type": "code",
      "execution_count": null,
      "id": "5892bffa",
      "metadata": {
        "id": "5892bffa",
        "outputId": "91c28de3-458d-483d-af92-0c3e9b7fbb58"
      },
      "outputs": [
        {
          "data": {
            "text/html": [
              "<div>\n",
              "<style scoped>\n",
              "    .dataframe tbody tr th:only-of-type {\n",
              "        vertical-align: middle;\n",
              "    }\n",
              "\n",
              "    .dataframe tbody tr th {\n",
              "        vertical-align: top;\n",
              "    }\n",
              "\n",
              "    .dataframe thead th {\n",
              "        text-align: right;\n",
              "    }\n",
              "</style>\n",
              "<table border=\"1\" class=\"dataframe\">\n",
              "  <thead>\n",
              "    <tr style=\"text-align: right;\">\n",
              "      <th></th>\n",
              "      <th>FileName</th>\n",
              "      <th>ClassName</th>\n",
              "    </tr>\n",
              "  </thead>\n",
              "  <tbody>\n",
              "    <tr>\n",
              "      <th>0</th>\n",
              "      <td>D:/state-farm-distracted-driver-detection/imgs...</td>\n",
              "      <td>test</td>\n",
              "    </tr>\n",
              "    <tr>\n",
              "      <th>1</th>\n",
              "      <td>D:/state-farm-distracted-driver-detection/imgs...</td>\n",
              "      <td>test</td>\n",
              "    </tr>\n",
              "    <tr>\n",
              "      <th>2</th>\n",
              "      <td>D:/state-farm-distracted-driver-detection/imgs...</td>\n",
              "      <td>test</td>\n",
              "    </tr>\n",
              "    <tr>\n",
              "      <th>3</th>\n",
              "      <td>D:/state-farm-distracted-driver-detection/imgs...</td>\n",
              "      <td>test</td>\n",
              "    </tr>\n",
              "    <tr>\n",
              "      <th>4</th>\n",
              "      <td>D:/state-farm-distracted-driver-detection/imgs...</td>\n",
              "      <td>test</td>\n",
              "    </tr>\n",
              "  </tbody>\n",
              "</table>\n",
              "</div>"
            ],
            "text/plain": [
              "                                            FileName ClassName\n",
              "0  D:/state-farm-distracted-driver-detection/imgs...      test\n",
              "1  D:/state-farm-distracted-driver-detection/imgs...      test\n",
              "2  D:/state-farm-distracted-driver-detection/imgs...      test\n",
              "3  D:/state-farm-distracted-driver-detection/imgs...      test\n",
              "4  D:/state-farm-distracted-driver-detection/imgs...      test"
            ]
          },
          "execution_count": 27,
          "metadata": {},
          "output_type": "execute_result"
        }
      ],
      "source": [
        "data_test.head()"
      ]
    },
    {
      "cell_type": "code",
      "execution_count": null,
      "id": "28ff885f",
      "metadata": {
        "id": "28ff885f",
        "outputId": "19df0769-28fe-4d9e-aa44-aa9ba3e30186"
      },
      "outputs": [
        {
          "data": {
            "text/plain": [
              "(33524, 2)"
            ]
          },
          "execution_count": 28,
          "metadata": {},
          "output_type": "execute_result"
        }
      ],
      "source": [
        "data_test.shape"
      ]
    },
    {
      "cell_type": "code",
      "execution_count": null,
      "id": "c324bfa7",
      "metadata": {
        "id": "c324bfa7",
        "outputId": "73beed21-8caf-4cda-c692-76352308ea9f"
      },
      "outputs": [
        {
          "name": "stdout",
          "output_type": "stream",
          "text": [
            "{'c2': 0, 'c5': 1, 'c1': 2, 'c8': 3, 'c9': 4, 'c6': 5, 'c4': 6, 'c0': 7, 'c3': 8, 'c7': 9}\n"
          ]
        }
      ],
      "source": [
        "labels_list = list(set(data_train['ClassName'].values.tolist()))\n",
        "labels_id = {label_name:id for id,label_name in enumerate(labels_list)}\n",
        "print(labels_id)\n",
        "data_train['ClassName'].replace(labels_id,inplace=True)"
      ]
    },
    {
      "cell_type": "code",
      "execution_count": null,
      "id": "f3b252a1",
      "metadata": {
        "id": "f3b252a1",
        "outputId": "5cd61843-b8cd-474a-d36b-75ed8e4b374c"
      },
      "outputs": [
        {
          "name": "stdout",
          "output_type": "stream",
          "text": [
            "(22424, 10)\n"
          ]
        }
      ],
      "source": [
        "labels = to_categorical(data_train['ClassName'])\n",
        "print(labels.shape)"
      ]
    },
    {
      "cell_type": "code",
      "execution_count": null,
      "id": "25ef7a1c",
      "metadata": {
        "id": "25ef7a1c"
      },
      "outputs": [],
      "source": [
        "from sklearn.model_selection import train_test_split\n",
        "\n",
        "xtrain,xtest,ytrain,ytest = train_test_split(data_train.iloc[:,0],labels,test_size = 0.2,random_state=42)"
      ]
    },
    {
      "cell_type": "code",
      "execution_count": null,
      "id": "e8edca0c",
      "metadata": {
        "id": "e8edca0c"
      },
      "outputs": [],
      "source": [
        "def path_to_tensor(img_path):\n",
        "    # loads RGB image as PIL.Image.Image type\n",
        "    img = image.load_img(img_path, target_size=(64, 64))\n",
        "    # convert PIL.Image.Image type to 3D tensor with shape (64, 64, 3)\n",
        "    x = image.img_to_array(img)\n",
        "    # convert 3D tensor to 4D tensor with shape (1, 64,64, 3) and return 4D tensor\n",
        "    return np.expand_dims(x, axis=0)\n",
        "\n",
        "def paths_to_tensor(img_paths):\n",
        "    list_of_tensors = [path_to_tensor(img_path) for img_path in tqdm(img_paths)]\n",
        "    return np.vstack(list_of_tensors)\n",
        "\n"
      ]
    },
    {
      "cell_type": "code",
      "execution_count": null,
      "id": "68f14d4b",
      "metadata": {
        "id": "68f14d4b",
        "outputId": "5a8500b6-362b-4865-b146-1675664d7629"
      },
      "outputs": [
        {
          "name": "stderr",
          "output_type": "stream",
          "text": [
            "100%|███████████████████████████████████████████████████████████████████████████| 17939/17939 [02:52<00:00, 103.88it/s]\n"
          ]
        }
      ],
      "source": [
        "from PIL import ImageFile                            \n",
        "ImageFile.LOAD_TRUNCATED_IMAGES = True                 \n",
        "\n",
        "# pre-process the data for Keras\n",
        "train_tensors = paths_to_tensor(xtrain).astype('float32')/255 - 0.5"
      ]
    },
    {
      "cell_type": "code",
      "execution_count": null,
      "id": "39e2e3c6",
      "metadata": {
        "id": "39e2e3c6",
        "outputId": "f5716656-b464-4472-c4a2-b993f736caa0"
      },
      "outputs": [
        {
          "name": "stderr",
          "output_type": "stream",
          "text": [
            "100%|█████████████████████████████████████████████████████████████████████████████| 4485/4485 [00:41<00:00, 107.43it/s]\n"
          ]
        }
      ],
      "source": [
        "valid_tensors = paths_to_tensor(xtest).astype('float32')/255 - 0.5"
      ]
    },
    {
      "cell_type": "code",
      "execution_count": null,
      "id": "7e5b3cd9",
      "metadata": {
        "id": "7e5b3cd9"
      },
      "outputs": [],
      "source": [
        "model = Sequential()\n",
        "\n",
        "model.add(Conv2D(filters=64, kernel_size=2, padding='same', activation='relu', input_shape=(64,64,3), kernel_initializer='glorot_normal'))\n",
        "model.add(MaxPooling2D(pool_size=2))\n",
        "model.add(Conv2D(filters=128, kernel_size=2, padding='same', activation='relu', kernel_initializer='glorot_normal'))\n",
        "model.add(MaxPooling2D(pool_size=2))\n",
        "model.add(Conv2D(filters=256, kernel_size=2, padding='same', activation='relu', kernel_initializer='glorot_normal'))\n",
        "model.add(MaxPooling2D(pool_size=2))\n",
        "model.add(Conv2D(filters=512, kernel_size=2, padding='same', activation='relu', kernel_initializer='glorot_normal'))\n",
        "model.add(MaxPooling2D(pool_size=2))\n",
        "model.add(Dropout(0.5))\n",
        "model.add(Flatten())\n",
        "model.add(Dense(500, activation='relu', kernel_initializer='glorot_normal'))\n",
        "model.add(Dropout(0.5))\n",
        "model.add(Dense(10, activation='softmax', kernel_initializer='glorot_normal'))\n"
      ]
    },
    {
      "cell_type": "code",
      "execution_count": null,
      "id": "ffa526a6",
      "metadata": {
        "id": "ffa526a6",
        "outputId": "87776170-39fc-4c8d-d372-148123d544da"
      },
      "outputs": [
        {
          "name": "stdout",
          "output_type": "stream",
          "text": [
            "Model: \"sequential\"\n",
            "_________________________________________________________________\n",
            "Layer (type)                 Output Shape              Param #   \n",
            "=================================================================\n",
            "conv2d (Conv2D)              (None, 64, 64, 64)        832       \n",
            "_________________________________________________________________\n",
            "max_pooling2d (MaxPooling2D) (None, 32, 32, 64)        0         \n",
            "_________________________________________________________________\n",
            "conv2d_1 (Conv2D)            (None, 32, 32, 128)       32896     \n",
            "_________________________________________________________________\n",
            "max_pooling2d_1 (MaxPooling2 (None, 16, 16, 128)       0         \n",
            "_________________________________________________________________\n",
            "conv2d_2 (Conv2D)            (None, 16, 16, 256)       131328    \n",
            "_________________________________________________________________\n",
            "max_pooling2d_2 (MaxPooling2 (None, 8, 8, 256)         0         \n",
            "_________________________________________________________________\n",
            "conv2d_3 (Conv2D)            (None, 8, 8, 512)         524800    \n",
            "_________________________________________________________________\n",
            "max_pooling2d_3 (MaxPooling2 (None, 4, 4, 512)         0         \n",
            "_________________________________________________________________\n",
            "dropout (Dropout)            (None, 4, 4, 512)         0         \n",
            "_________________________________________________________________\n",
            "flatten (Flatten)            (None, 8192)              0         \n",
            "_________________________________________________________________\n",
            "dense (Dense)                (None, 500)               4096500   \n",
            "_________________________________________________________________\n",
            "dropout_1 (Dropout)          (None, 500)               0         \n",
            "_________________________________________________________________\n",
            "dense_1 (Dense)              (None, 10)                5010      \n",
            "=================================================================\n",
            "Total params: 4,791,366\n",
            "Trainable params: 4,791,366\n",
            "Non-trainable params: 0\n",
            "_________________________________________________________________\n"
          ]
        }
      ],
      "source": [
        "model.summary()"
      ]
    },
    {
      "cell_type": "code",
      "execution_count": null,
      "id": "369ff996",
      "metadata": {
        "id": "369ff996"
      },
      "outputs": [],
      "source": [
        "model.compile(optimizer='rmsprop', loss='categorical_crossentropy', metrics=['accuracy'])"
      ]
    },
    {
      "cell_type": "code",
      "execution_count": null,
      "id": "844c1189",
      "metadata": {
        "id": "844c1189",
        "outputId": "beb25da9-5686-4e03-a9c9-0190d8b52b1b"
      },
      "outputs": [
        {
          "name": "stdout",
          "output_type": "stream",
          "text": [
            "WARNING:tensorflow:`period` argument is deprecated. Please use `save_freq` to specify the frequency in number of batches seen.\n"
          ]
        }
      ],
      "source": [
        "filepath = os.path.join(MODEL_PATH,\"distracted-{epoch:02d}-{val_accuracy:.2f}.hdf5\")\n",
        "checkpoint = ModelCheckpoint(filepath, monitor='val_accuracy', verbose=1, save_best_only=True, mode='max',period=1)\n",
        "callbacks_list = [checkpoint]"
      ]
    },
    {
      "cell_type": "code",
      "execution_count": null,
      "id": "8a32b5ba",
      "metadata": {
        "id": "8a32b5ba",
        "outputId": "0dc7a58b-10ce-400a-cb60-22ff6df1f93d"
      },
      "outputs": [
        {
          "name": "stdout",
          "output_type": "stream",
          "text": [
            "Epoch 1/25\n",
            "449/449 [==============================] - 433s 964ms/step - loss: 0.5704 - accuracy: 0.8095 - val_loss: 0.2135 - val_accuracy: 0.9284\n",
            "\n",
            "Epoch 00001: val_accuracy improved from -inf to 0.92843, saving model to C:\\Users\\Ayush\\model\\self_trained\\distracted-01-0.93.hdf5\n",
            "Epoch 2/25\n",
            "449/449 [==============================] - 438s 976ms/step - loss: 0.1765 - accuracy: 0.9470 - val_loss: 0.1133 - val_accuracy: 0.9674\n",
            "\n",
            "Epoch 00002: val_accuracy improved from 0.92843 to 0.96745, saving model to C:\\Users\\Ayush\\model\\self_trained\\distracted-02-0.97.hdf5\n",
            "Epoch 3/25\n",
            "449/449 [==============================] - 452s 1s/step - loss: 0.1048 - accuracy: 0.9688 - val_loss: 0.0645 - val_accuracy: 0.9842\n",
            "\n",
            "Epoch 00003: val_accuracy improved from 0.96745 to 0.98417, saving model to C:\\Users\\Ayush\\model\\self_trained\\distracted-03-0.98.hdf5\n",
            "Epoch 4/25\n",
            "449/449 [==============================] - 443s 985ms/step - loss: 0.0806 - accuracy: 0.9768 - val_loss: 0.0883 - val_accuracy: 0.9781\n",
            "\n",
            "Epoch 00004: val_accuracy did not improve from 0.98417\n",
            "Epoch 5/25\n",
            "449/449 [==============================] - 446s 994ms/step - loss: 0.0651 - accuracy: 0.9817 - val_loss: 0.0727 - val_accuracy: 0.9833\n",
            "\n",
            "Epoch 00005: val_accuracy did not improve from 0.98417\n",
            "Epoch 6/25\n",
            "449/449 [==============================] - 441s 982ms/step - loss: 0.0563 - accuracy: 0.9839 - val_loss: 0.0571 - val_accuracy: 0.9875\n",
            "\n",
            "Epoch 00006: val_accuracy improved from 0.98417 to 0.98751, saving model to C:\\Users\\Ayush\\model\\self_trained\\distracted-06-0.99.hdf5\n",
            "Epoch 7/25\n",
            "449/449 [==============================] - 429s 956ms/step - loss: 0.0574 - accuracy: 0.9842 - val_loss: 0.0785 - val_accuracy: 0.9848\n",
            "\n",
            "Epoch 00007: val_accuracy did not improve from 0.98751\n",
            "Epoch 8/25\n",
            "449/449 [==============================] - 424s 944ms/step - loss: 0.0442 - accuracy: 0.9878 - val_loss: 0.0348 - val_accuracy: 0.9926\n",
            "\n",
            "Epoch 00008: val_accuracy improved from 0.98751 to 0.99264, saving model to C:\\Users\\Ayush\\model\\self_trained\\distracted-08-0.99.hdf5\n",
            "Epoch 9/25\n",
            "449/449 [==============================] - 350s 780ms/step - loss: 0.0447 - accuracy: 0.9883 - val_loss: 0.0474 - val_accuracy: 0.9909\n",
            "\n",
            "Epoch 00009: val_accuracy did not improve from 0.99264\n",
            "Epoch 10/25\n",
            "449/449 [==============================] - 336s 749ms/step - loss: 0.0489 - accuracy: 0.9881 - val_loss: 0.0481 - val_accuracy: 0.9915\n",
            "\n",
            "Epoch 00010: val_accuracy did not improve from 0.99264\n",
            "Epoch 11/25\n",
            "449/449 [==============================] - 326s 726ms/step - loss: 0.0411 - accuracy: 0.9900 - val_loss: 0.0656 - val_accuracy: 0.9906\n",
            "\n",
            "Epoch 00011: val_accuracy did not improve from 0.99264\n",
            "Epoch 12/25\n",
            "449/449 [==============================] - 304s 678ms/step - loss: 0.0421 - accuracy: 0.9896 - val_loss: 0.0639 - val_accuracy: 0.9893\n",
            "\n",
            "Epoch 00012: val_accuracy did not improve from 0.99264\n",
            "Epoch 13/25\n",
            "449/449 [==============================] - 379s 845ms/step - loss: 0.0395 - accuracy: 0.9897 - val_loss: 0.0341 - val_accuracy: 0.9942\n",
            "\n",
            "Epoch 00013: val_accuracy improved from 0.99264 to 0.99420, saving model to C:\\Users\\Ayush\\model\\self_trained\\distracted-13-0.99.hdf5\n",
            "Epoch 14/25\n",
            "449/449 [==============================] - 303s 674ms/step - loss: 0.0452 - accuracy: 0.9901 - val_loss: 0.0188 - val_accuracy: 0.9949\n",
            "\n",
            "Epoch 00014: val_accuracy improved from 0.99420 to 0.99487, saving model to C:\\Users\\Ayush\\model\\self_trained\\distracted-14-0.99.hdf5\n",
            "Epoch 15/25\n",
            "449/449 [==============================] - 306s 681ms/step - loss: 0.0433 - accuracy: 0.9902 - val_loss: 0.0541 - val_accuracy: 0.9922\n",
            "\n",
            "Epoch 00015: val_accuracy did not improve from 0.99487\n",
            "Epoch 16/25\n",
            "449/449 [==============================] - 347s 773ms/step - loss: 0.0425 - accuracy: 0.9909 - val_loss: 0.0776 - val_accuracy: 0.9933\n",
            "\n",
            "Epoch 00016: val_accuracy did not improve from 0.99487\n",
            "Epoch 17/25\n",
            "449/449 [==============================] - 316s 704ms/step - loss: 0.0403 - accuracy: 0.9914 - val_loss: 0.0514 - val_accuracy: 0.9926\n",
            "\n",
            "Epoch 00017: val_accuracy did not improve from 0.99487\n",
            "Epoch 18/25\n",
            "449/449 [==============================] - 335s 747ms/step - loss: 0.0339 - accuracy: 0.9931 - val_loss: 0.0656 - val_accuracy: 0.9946\n",
            "\n",
            "Epoch 00018: val_accuracy did not improve from 0.99487\n",
            "Epoch 19/25\n",
            "449/449 [==============================] - 307s 684ms/step - loss: 0.0475 - accuracy: 0.9909 - val_loss: 0.0284 - val_accuracy: 0.9946\n",
            "\n",
            "Epoch 00019: val_accuracy did not improve from 0.99487\n",
            "Epoch 20/25\n",
            "449/449 [==============================] - 308s 687ms/step - loss: 0.0388 - accuracy: 0.9918 - val_loss: 0.0677 - val_accuracy: 0.9900\n",
            "\n",
            "Epoch 00020: val_accuracy did not improve from 0.99487\n",
            "Epoch 21/25\n",
            "449/449 [==============================] - 305s 679ms/step - loss: 0.0374 - accuracy: 0.9930 - val_loss: 0.0978 - val_accuracy: 0.9920\n",
            "\n",
            "Epoch 00021: val_accuracy did not improve from 0.99487\n",
            "Epoch 22/25\n",
            "449/449 [==============================] - 340s 758ms/step - loss: 0.0429 - accuracy: 0.9923 - val_loss: 0.0440 - val_accuracy: 0.9942\n",
            "\n",
            "Epoch 00022: val_accuracy did not improve from 0.99487\n",
            "Epoch 23/25\n",
            "449/449 [==============================] - 353s 786ms/step - loss: 0.0374 - accuracy: 0.9928 - val_loss: 0.0442 - val_accuracy: 0.9949\n",
            "\n",
            "Epoch 00023: val_accuracy did not improve from 0.99487\n",
            "Epoch 24/25\n",
            "449/449 [==============================] - 355s 791ms/step - loss: 0.0370 - accuracy: 0.9933 - val_loss: 0.1337 - val_accuracy: 0.9857\n",
            "\n",
            "Epoch 00024: val_accuracy did not improve from 0.99487\n",
            "Epoch 25/25\n",
            "449/449 [==============================] - 350s 779ms/step - loss: 0.0345 - accuracy: 0.9932 - val_loss: 0.0555 - val_accuracy: 0.9929\n",
            "\n",
            "Epoch 00025: val_accuracy did not improve from 0.99487\n"
          ]
        }
      ],
      "source": [
        "model_history = model.fit(train_tensors,ytrain,validation_data = (valid_tensors, ytest),epochs=25, batch_size=40, shuffle=True,callbacks=callbacks_list)\n"
      ]
    },
    {
      "cell_type": "code",
      "execution_count": null,
      "id": "27b1828d",
      "metadata": {
        "id": "27b1828d",
        "outputId": "d3db44b0-735a-4745-d092-d1734f12de0b"
      },
      "outputs": [
        {
          "data": {
            "image/png": "[encoded data removed]",
            "text/plain": [
              "<Figure size 864x864 with 2 Axes>"
            ]
          },
          "metadata": {
            "needs_background": "light"
          },
          "output_type": "display_data"
        }
      ],
      "source": [
        "fig, (ax1, ax2) = plt.subplots(2, 1, figsize=(12, 12))\n",
        "ax1.plot(model_history.history['loss'], color='b', label=\"Training loss\")\n",
        "ax1.plot(model_history.history['val_loss'], color='r', label=\"validation loss\")\n",
        "ax1.set_xticks(np.arange(1, 25, 1))\n",
        "ax1.set_yticks(np.arange(0, 1, 0.1))\n",
        "\n",
        "ax2.plot(model_history.history['accuracy'], color='b', label=\"Training accuracy\")\n",
        "ax2.plot(model_history.history['val_accuracy'], color='r',label=\"Validation accuracy\")\n",
        "ax2.set_xticks(np.arange(1, 25, 1))\n",
        "\n",
        "legend = plt.legend(loc='best', shadow=True)\n",
        "plt.tight_layout()\n",
        "plt.show()"
      ]
    },
    {
      "cell_type": "code",
      "execution_count": null,
      "id": "3500cb3c",
      "metadata": {
        "id": "3500cb3c"
      },
      "outputs": [],
      "source": [
        ""
      ]
    },
    {
      "cell_type": "code",
      "execution_count": null,
      "id": "af1f41fc",
      "metadata": {
        "id": "af1f41fc"
      },
      "outputs": [],
      "source": [
        ""
      ]
    },
    {
      "cell_type": "code",
      "execution_count": null,
      "id": "66fd35ff",
      "metadata": {
        "id": "66fd35ff"
      },
      "outputs": [],
      "source": [
        ""
      ]
    },
    {
      "cell_type": "code",
      "execution_count": null,
      "id": "45f59ef9",
      "metadata": {
        "id": "45f59ef9"
      },
      "outputs": [],
      "source": [
        ""
      ]
    },
    {
      "cell_type": "code",
      "execution_count": null,
      "id": "0c1c4f6a",
      "metadata": {
        "id": "0c1c4f6a"
      },
      "outputs": [],
      "source": [
        ""
      ]
    },
    {
      "cell_type": "code",
      "execution_count": null,
      "id": "824a44cf",
      "metadata": {
        "id": "824a44cf"
      },
      "outputs": [],
      "source": [
        ""
      ]
    }
  ],
  "metadata": {
    "kernelspec": {
      "display_name": "Python 3 (ipykernel)",
      "language": "python",
      "name": "python3"
    },
    "language_info": {
      "codemirror_mode": {
        "name": "ipython",
        "version": 3
      },
      "file_extension": ".py",
      "mimetype": "text/x-python",
      "name": "python",
      "nbconvert_exporter": "python",
      "pygments_lexer": "ipython3",
      "version": "3.8.12"
    },
    "colab": {
      "name": "BodyLangCNN.ipynb",
      "provenance": []
    }
  },
  "nbformat": 4,
  "nbformat_minor": 5
}